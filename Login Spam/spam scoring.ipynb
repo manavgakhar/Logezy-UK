{
 "cells": [
  {
   "cell_type": "code",
   "execution_count": 1,
   "metadata": {},
   "outputs": [],
   "source": [
    "import json"
   ]
  },
  {
   "cell_type": "code",
   "execution_count": 2,
   "metadata": {},
   "outputs": [],
   "source": [
    "with open(\"sign_up.json\") as fp:\n",
    "    data= json.load(fp)"
   ]
  },
  {
   "cell_type": "code",
   "execution_count": 3,
   "metadata": {},
   "outputs": [
    {
     "data": {
      "text/plain": [
       "{'first_name': 'Bastin',\n",
       " 'last_name': 'Robin',\n",
       " 'email': 'robin@logezy.co.uk',\n",
       " 'company': 'Logezy',\n",
       " 'slug': 'logezy',\n",
       " 'address': 'zys',\n",
       " 'password': '*****',\n",
       " 'ip_address': '198.189.10.01',\n",
       " 'referer': 'face | google',\n",
       " 'browser': 'OS/Chrome, OS/Mozilla'}"
      ]
     },
     "execution_count": 3,
     "metadata": {},
     "output_type": "execute_result"
    }
   ],
   "source": [
    "data"
   ]
  },
  {
   "cell_type": "markdown",
   "metadata": {},
   "source": [
    "## From the given parameters, we need to check each one then assign a score to it which will contribute to the final score between -1 and 1"
   ]
  },
  {
   "cell_type": "markdown",
   "metadata": {},
   "source": [
    "## For every parameter, we'll have a score from -1 to 1 and then we'll take the average to get the final result"
   ]
  },
  {
   "cell_type": "markdown",
   "metadata": {},
   "source": [
    "###   - Let's start with Name Params"
   ]
  },
  {
   "cell_type": "markdown",
   "metadata": {},
   "source": [
    "#### -if names have anything other than alphabets and exceed a certain limit of characters, we should penalize them"
   ]
  },
  {
   "cell_type": "code",
   "execution_count": 4,
   "metadata": {},
   "outputs": [],
   "source": [
    "name= data['first_name'] + data['last_name']\n",
    "score_name=0\n",
    "\n",
    "flag=True\n",
    "if len(name)> 200:\n",
    "    flag= False\n",
    "    score_name-= 0.2\n",
    "if(flag):\n",
    "    for i in name:\n",
    "        if (i.isalpha()==0):\n",
    "            score_name-= 0.8\n",
    "            flag= False\n",
    "if(flag):\n",
    "    score_name+=0.9\n",
    "if(data['first_name'][0].isupper()):\n",
    "    score_name+=0.1"
   ]
  },
  {
   "cell_type": "markdown",
   "metadata": {},
   "source": [
    "### After this, we move to the email param"
   ]
  },
  {
   "cell_type": "code",
   "execution_count": 5,
   "metadata": {},
   "outputs": [],
   "source": [
    "import requests\n",
    "\n",
    "url = \"https://email-validator8.p.rapidapi.com/api/v2.0/email\"\n",
    "\n",
    "payload = \"email=\"+ data['email'].replace(\"@\", '%40')\n",
    "headers = {\n",
    "    'x-rapidapi-host': \"email-validator8.p.rapidapi.com\",\n",
    "    'x-rapidapi-key': \"6350f9a380msh77e1b7f71166e09p169206jsn45bf3dc73018\",\n",
    "    'content-type': \"application/x-www-form-urlencoded\"\n",
    "    }\n",
    "\n",
    "response = requests.request(\"POST\", url, data=payload, headers=headers)\n",
    "\n",
    "res= response.text\n",
    "\n",
    "dictt=json.loads(res)\n",
    "\n",
    "score_email=0\n",
    "\n",
    "flag2=True\n",
    "if(dictt['disposable'])==True:\n",
    "    score_email-= 0.5\n",
    "    flag2=  False\n",
    "if(dictt['mx_records'])== False:\n",
    "    score_email-= 0.5\n",
    "    flag2= False\n",
    "if(flag2):\n",
    "    score_email+=1"
   ]
  },
  {
   "cell_type": "markdown",
   "metadata": {},
   "source": [
    "## Now we will check the I.P Address Blacklist API"
   ]
  },
  {
   "cell_type": "code",
   "execution_count": 6,
   "metadata": {},
   "outputs": [],
   "source": [
    "import requests\n",
    "ip= data['ip_address']\n",
    "\n",
    "url = \"https://tony11-blacklist-ip-v1.p.rapidapi.com/ipv4/\" + ip\n",
    "\n",
    "headers = {\n",
    "    'x-rapidapi-host': \"tony11-blacklist-ip-v1.p.rapidapi.com\",\n",
    "    'x-rapidapi-key': \"6350f9a380msh77e1b7f71166e09p169206jsn45bf3dc73018\"\n",
    "    }\n",
    "\n",
    "response2 = requests.request(\"GET\", url, headers=headers)\n",
    "res2= response2.text\n",
    "\n",
    "dictt2= json.loads(res2)\n",
    "\n",
    "score_ip=0\n",
    "\n",
    "flag3=True\n",
    "if(dictt2['content']['blacklisted']==1):\n",
    "    flag3= False\n",
    "    score_ip-= 0.8\n",
    "if(dictt2['status']!= 'OK'):\n",
    "    flag3= False\n",
    "    score_ip-= 0.2\n",
    "if(flag3):\n",
    "    score_ip+=1\n"
   ]
  },
  {
   "cell_type": "markdown",
   "metadata": {},
   "source": [
    "# Final Score"
   ]
  },
  {
   "cell_type": "code",
   "execution_count": 7,
   "metadata": {},
   "outputs": [
    {
     "data": {
      "text/plain": [
       "1.0"
      ]
     },
     "execution_count": 7,
     "metadata": {},
     "output_type": "execute_result"
    }
   ],
   "source": [
    "final_score= (score_name+score_email+score_ip)/3\n",
    "\n",
    "final_score"
   ]
  },
  {
   "cell_type": "code",
   "execution_count": null,
   "metadata": {},
   "outputs": [],
   "source": []
  }
 ],
 "metadata": {
  "kernelspec": {
   "display_name": "Python 3",
   "language": "python",
   "name": "python3"
  },
  "language_info": {
   "codemirror_mode": {
    "name": "ipython",
    "version": 3
   },
   "file_extension": ".py",
   "mimetype": "text/x-python",
   "name": "python",
   "nbconvert_exporter": "python",
   "pygments_lexer": "ipython3",
   "version": "3.7.6"
  }
 },
 "nbformat": 4,
 "nbformat_minor": 4
}
