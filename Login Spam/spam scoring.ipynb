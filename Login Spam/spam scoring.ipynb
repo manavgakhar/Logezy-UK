{
 "cells": [
  {
   "cell_type": "code",
   "execution_count": 15,
   "metadata": {},
   "outputs": [],
   "source": [
    "import json"
   ]
  },
  {
   "cell_type": "code",
   "execution_count": 19,
   "metadata": {},
   "outputs": [],
   "source": [
    "with open(\"sign_up.json\") as fp:\n",
    "    data= json.load(fp)"
   ]
  },
  {
   "cell_type": "code",
   "execution_count": 20,
   "metadata": {},
   "outputs": [
    {
     "data": {
      "text/plain": [
       "{'first_name': 'Bastin',\n",
       " 'last_name': 'Robin',\n",
       " 'email': 'robin@logezy.co.uk',\n",
       " 'company': 'Logezy',\n",
       " 'slug': 'logezy',\n",
       " 'address': 'zys',\n",
       " 'password': '*****',\n",
       " 'ip_address': '198.189.10.01',\n",
       " 'referer': 'face | google',\n",
       " 'browser': 'OS/Chrome, OS/Mozilla'}"
      ]
     },
     "execution_count": 20,
     "metadata": {},
     "output_type": "execute_result"
    }
   ],
   "source": [
    "data"
   ]
  },
  {
   "cell_type": "markdown",
   "metadata": {},
   "source": [
    "## From the given parameters, we need to check each one then assign a score to it which will contribute to the final score between -1 and 1"
   ]
  },
  {
   "cell_type": "markdown",
   "metadata": {},
   "source": [
    "## For every parameter, we'll have a score from -1 to 1 and then we'll take the average to get the final result"
   ]
  },
  {
   "cell_type": "markdown",
   "metadata": {},
   "source": [
    "###   - Let's start with Name Params"
   ]
  },
  {
   "cell_type": "markdown",
   "metadata": {},
   "source": [
    "#### -if names have anything other than alphabets and exceed a certain limit of characters, we should penalize them"
   ]
  },
  {
   "cell_type": "code",
   "execution_count": 75,
   "metadata": {},
   "outputs": [],
   "source": [
    "name= data['first_name'] + data['last_name']\n",
    "score_name=0"
   ]
  },
  {
   "cell_type": "code",
   "execution_count": 76,
   "metadata": {},
   "outputs": [],
   "source": [
    "flag=True\n",
    "if len(name)> 200:\n",
    "    flag= False\n",
    "    score_name-= 0.2\n",
    "if(flag):\n",
    "    for i in name:\n",
    "        if (i.isalpha()==0):\n",
    "            score_name-= 0.8\n",
    "            flag= False\n",
    "if(flag):\n",
    "    score_name+=0.9\n",
    "if(data['first_name'][0].isupper()):\n",
    "    score_name+=0.1"
   ]
  },
  {
   "cell_type": "code",
   "execution_count": 77,
   "metadata": {},
   "outputs": [
    {
     "data": {
      "text/plain": [
       "1.0"
      ]
     },
     "execution_count": 77,
     "metadata": {},
     "output_type": "execute_result"
    }
   ],
   "source": [
    "score_name"
   ]
  },
  {
   "cell_type": "code",
   "execution_count": 39,
   "metadata": {},
   "outputs": [
    {
     "data": {
      "text/plain": [
       "'robin@logezy.co.uk'"
      ]
     },
     "execution_count": 39,
     "metadata": {},
     "output_type": "execute_result"
    }
   ],
   "source": [
    "data['email']"
   ]
  },
  {
   "cell_type": "markdown",
   "metadata": {},
   "source": [
    "### After this, we move to the email param"
   ]
  },
  {
   "cell_type": "code",
   "execution_count": 67,
   "metadata": {},
   "outputs": [],
   "source": [
    "import requests\n",
    "\n",
    "url = \"https://email-validator8.p.rapidapi.com/api/v2.0/email\"\n",
    "\n",
    "payload = \"email=\"+\"kj3344%40rkjjfnkl.ru\"\n",
    "headers = {\n",
    "    'x-rapidapi-host': \"email-validator8.p.rapidapi.com\",\n",
    "    'x-rapidapi-key': \"6350f9a380msh77e1b7f71166e09p169206jsn45bf3dc73018\",\n",
    "    'content-type': \"application/x-www-form-urlencoded\"\n",
    "    }\n",
    "\n",
    "response = requests.request(\"POST\", url, data=payload, headers=headers)\n",
    "\n",
    "res= response.text"
   ]
  },
  {
   "cell_type": "code",
   "execution_count": 68,
   "metadata": {},
   "outputs": [],
   "source": [
    "dictt=json.loads(res)"
   ]
  },
  {
   "cell_type": "code",
   "execution_count": 69,
   "metadata": {},
   "outputs": [
    {
     "data": {
      "text/plain": [
       "{'email': 'kj3344@rkjjfnkl.ru',\n",
       " 'valid': True,\n",
       " 'disposable': False,\n",
       " 'mx_records': False,\n",
       " 'exists': None}"
      ]
     },
     "execution_count": 69,
     "metadata": {},
     "output_type": "execute_result"
    }
   ],
   "source": []
  },
  {
   "cell_type": "code",
   "execution_count": 70,
   "metadata": {},
   "outputs": [],
   "source": [
    "score_email=0"
   ]
  },
  {
   "cell_type": "code",
   "execution_count": 78,
   "metadata": {},
   "outputs": [],
   "source": [
    "flag=True\n",
    "if(dictt['disposable'])==True:\n",
    "    score_email-= 0.5\n",
    "    flag=  False\n",
    "if(dictt['mx_records'])== False:\n",
    "    score_email-= 0.5\n",
    "    flag= False\n",
    "if(flag):\n",
    "    score_email+=1"
   ]
  },
  {
   "cell_type": "code",
   "execution_count": 79,
   "metadata": {},
   "outputs": [
    {
     "data": {
      "text/plain": [
       "-0.5"
      ]
     },
     "execution_count": 79,
     "metadata": {},
     "output_type": "execute_result"
    }
   ],
   "source": [
    "score_email"
   ]
  },
  {
   "cell_type": "code",
   "execution_count": null,
   "metadata": {},
   "outputs": [],
   "source": []
  }
 ],
 "metadata": {
  "kernelspec": {
   "display_name": "Python 3",
   "language": "python",
   "name": "python3"
  },
  "language_info": {
   "codemirror_mode": {
    "name": "ipython",
    "version": 3
   },
   "file_extension": ".py",
   "mimetype": "text/x-python",
   "name": "python",
   "nbconvert_exporter": "python",
   "pygments_lexer": "ipython3",
   "version": "3.7.6"
  }
 },
 "nbformat": 4,
 "nbformat_minor": 4
}
